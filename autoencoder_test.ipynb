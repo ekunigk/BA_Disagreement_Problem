{
 "cells": [
  {
   "cell_type": "code",
   "execution_count": 1,
   "metadata": {},
   "outputs": [],
   "source": [
    "from evaluation.autoencoder import Autoencoder\n",
    "from evaluation.autoencoder_training import train_autoencoder\n",
    "from data.data_collector import DataCollector"
   ]
  },
  {
   "cell_type": "code",
   "execution_count": 2,
   "metadata": {},
   "outputs": [],
   "source": [
    "from sklearn.model_selection import train_test_split"
   ]
  },
  {
   "cell_type": "code",
   "execution_count": 3,
   "metadata": {},
   "outputs": [],
   "source": [
    "dc_bw = DataCollector('breastw')\n",
    "dc_bw.mask_features(3, 0, True)\n",
    "X_train, X_test, y_train, y_test = train_test_split(dc_bw.masked_explanations[0:1000, :-1], dc_bw.masked_explanations[1000:2000, :-1], test_size=0.2, random_state=28)"
   ]
  },
  {
   "cell_type": "code",
   "execution_count": 4,
   "metadata": {},
   "outputs": [
    {
     "name": "stdout",
     "output_type": "stream",
     "text": [
      "epoch: 0, loss: 0.1380\n",
      "epoch: 1, loss: 0.1315\n",
      "epoch: 2, loss: 0.1297\n",
      "epoch: 3, loss: 0.1290\n",
      "epoch: 4, loss: 0.1290\n",
      "epoch: 5, loss: 0.1292\n",
      "epoch: 6, loss: 0.1294\n",
      "epoch: 7, loss: 0.1297\n",
      "epoch: 8, loss: 0.1300\n",
      "epoch: 9, loss: 0.1302\n",
      "epoch: 10, loss: 0.1304\n",
      "epoch: 11, loss: 0.1307\n",
      "epoch: 12, loss: 0.1308\n",
      "epoch: 13, loss: 0.1310\n",
      "epoch: 14, loss: 0.1312\n",
      "epoch: 15, loss: 0.1313\n",
      "epoch: 16, loss: 0.1315\n",
      "epoch: 17, loss: 0.1316\n",
      "epoch: 18, loss: 0.1317\n",
      "epoch: 19, loss: 0.1318\n",
      "epoch: 20, loss: 0.1319\n",
      "epoch: 21, loss: 0.1319\n",
      "epoch: 22, loss: 0.1319\n",
      "epoch: 23, loss: 0.1318\n",
      "epoch: 24, loss: 0.1317\n",
      "epoch: 25, loss: 0.1316\n",
      "epoch: 26, loss: 0.1314\n",
      "epoch: 27, loss: 0.1313\n",
      "epoch: 28, loss: 0.1311\n",
      "epoch: 29, loss: 0.1308\n",
      "epoch: 30, loss: 0.1306\n",
      "epoch: 31, loss: 0.1304\n",
      "epoch: 32, loss: 0.1301\n",
      "epoch: 33, loss: 0.1298\n",
      "epoch: 34, loss: 0.1296\n",
      "epoch: 35, loss: 0.1293\n",
      "epoch: 36, loss: 0.1290\n",
      "epoch: 37, loss: 0.1287\n",
      "epoch: 38, loss: 0.1285\n",
      "epoch: 39, loss: 0.1282\n",
      "epoch: 40, loss: 0.1280\n",
      "epoch: 41, loss: 0.1277\n",
      "epoch: 42, loss: 0.1274\n",
      "epoch: 43, loss: 0.1272\n",
      "epoch: 44, loss: 0.1270\n",
      "epoch: 45, loss: 0.1267\n",
      "epoch: 46, loss: 0.1265\n",
      "epoch: 47, loss: 0.1263\n",
      "epoch: 48, loss: 0.1261\n",
      "epoch: 49, loss: 0.1259\n"
     ]
    }
   ],
   "source": [
    "autoencoder = Autoencoder(9,2) \n",
    "train_autoencoder(autoencoder, X_train, y_train, num_epochs=50, lr=0.01, batch_size=16)"
   ]
  },
  {
   "cell_type": "code",
   "execution_count": 5,
   "metadata": {},
   "outputs": [],
   "source": [
    "autoencoder.eval()\n",
    "y_pred = autoencoder(X_test)"
   ]
  },
  {
   "cell_type": "code",
   "execution_count": 7,
   "metadata": {},
   "outputs": [],
   "source": [
    "from sklearn.metrics import mean_squared_error"
   ]
  },
  {
   "cell_type": "code",
   "execution_count": 8,
   "metadata": {},
   "outputs": [
    {
     "name": "stdout",
     "output_type": "stream",
     "text": [
      "0.13936152\n"
     ]
    }
   ],
   "source": [
    "print(mean_squared_error(y_test, y_pred.detach().numpy()))"
   ]
  }
 ],
 "metadata": {
  "kernelspec": {
   "display_name": "Python 3",
   "language": "python",
   "name": "python3"
  },
  "language_info": {
   "codemirror_mode": {
    "name": "ipython",
    "version": 3
   },
   "file_extension": ".py",
   "mimetype": "text/x-python",
   "name": "python",
   "nbconvert_exporter": "python",
   "pygments_lexer": "ipython3",
   "version": "3.11.4"
  }
 },
 "nbformat": 4,
 "nbformat_minor": 2
}
