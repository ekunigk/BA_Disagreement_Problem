{
 "cells": [
  {
   "cell_type": "code",
   "execution_count": 1,
   "metadata": {},
   "outputs": [],
   "source": [
    "from hypotheses_plots import show_mse_and_baseline, show_rankings_mse, show_mse_with_mask"
   ]
  },
  {
   "cell_type": "code",
   "execution_count": null,
   "metadata": {},
   "outputs": [],
   "source": [
    "show_mse_and_baseline('breastw', 'ae5', (6.2, 3.3), True, 'mse/bw_ae5.pdf')\n",
    "show_mse_and_baseline('breastw', 'ae16-6-16', (6.2, 3.3), True, 'mse/bw_ae16.pdf')\n",
    "show_mse_and_baseline('breastw', 'lr', (6.2, 3.3), True, 'mse/bw_lr.pdf')"
   ]
  },
  {
   "cell_type": "code",
   "execution_count": null,
   "metadata": {},
   "outputs": [],
   "source": [
    "show_rankings_mse('breastw', 'ae5', (2.6, 3.2), (3.7, 3.2), True, 'ranks/bw_ae5.pdf', 'ranks/bw_ae5_mixed.pdf')\n",
    "show_rankings_mse('breastw', 'ae16-6-16', (2.6, 3.2), (3.7, 3.2), True, 'ranks/bw_ae16.pdf', 'ranks/bw_ae16_mixed.pdf')\n",
    "show_rankings_mse('breastw', 'lr', (2.6, 3.2), (3.7, 3.2), True, 'ranks/bw_lr.pdf', 'ranks/bw_lr_mixed.pdf')"
   ]
  },
  {
   "cell_type": "code",
   "execution_count": null,
   "metadata": {},
   "outputs": [],
   "source": [
    "show_mse_with_mask('breastw', 1, 'ae5', (6.2, 3.3), True, 'masked/bw_ae5_m1.pdf')\n",
    "show_mse_with_mask('breastw', 1, 'ae16-6-16', (6.2, 3.3), True, 'masked/bw_ae16_m1.pdf')\n",
    "show_mse_with_mask('breastw', 1, 'lr', (6.2, 3.3), True, 'masked/bw_lr_m1.pdf')"
   ]
  }
 ],
 "metadata": {
  "kernelspec": {
   "display_name": "Python 3",
   "language": "python",
   "name": "python3"
  },
  "language_info": {
   "codemirror_mode": {
    "name": "ipython",
    "version": 3
   },
   "file_extension": ".py",
   "mimetype": "text/x-python",
   "name": "python",
   "nbconvert_exporter": "python",
   "pygments_lexer": "ipython3",
   "version": "3.11.4"
  }
 },
 "nbformat": 4,
 "nbformat_minor": 2
}
