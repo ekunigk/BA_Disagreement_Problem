{
 "cells": [
  {
   "cell_type": "markdown",
   "metadata": {},
   "source": [
    "### Preliminary Analysis"
   ]
  },
  {
   "cell_type": "code",
   "execution_count": 6,
   "metadata": {},
   "outputs": [],
   "source": [
    "from data_management.data_collector import DataCollector\n",
    "from data_management.data_saving import load_dict\n",
    "from evaluation.preliminary_evaluation import fa_average_pairwise\n",
    "from evaluation.umap import visualize_umap\n",
    "from visualization.preliminary_fig import visualize_fa2"
   ]
  },
  {
   "cell_type": "code",
   "execution_count": 2,
   "metadata": {},
   "outputs": [],
   "source": [
    "dc_bw = DataCollector('breastw', 1)\n",
    "dc_sb = DataCollector('spambase', 1)"
   ]
  },
  {
   "cell_type": "code",
   "execution_count": 3,
   "metadata": {},
   "outputs": [],
   "source": [
    "fa_bw_k3 = fa_average_pairwise(dc_bw, 3)\n",
    "fa_sb_k19 = fa_average_pairwise(dc_sb, 19)"
   ]
  },
  {
   "cell_type": "code",
   "execution_count": 5,
   "metadata": {},
   "outputs": [
    {
     "name": "stderr",
     "output_type": "stream",
     "text": [
      "c:\\Users\\ellen\\Documents\\sose 24\\bachelorarbeit\\code\\BA_Disagreement_Problem\\visualization\\preliminary_fig.py:48: UserWarning: FigureCanvasPdf is non-interactive, and thus cannot be shown\n",
      "  plt.show()\n",
      "c:\\Users\\ellen\\Documents\\sose 24\\bachelorarbeit\\code\\BA_Disagreement_Problem\\visualization\\preliminary_fig.py:48: UserWarning: FigureCanvasPdf is non-interactive, and thus cannot be shown\n",
      "  plt.show()\n"
     ]
    }
   ],
   "source": [
    "visualize_fa2(fa_bw_k3, save_plt=True, path='bw_m1_k3.pdf')\n",
    "visualize_fa2(fa_sb_k19, save_plt=True, path='sb_m1_k19.pdf')"
   ]
  },
  {
   "cell_type": "code",
   "execution_count": 13,
   "metadata": {},
   "outputs": [],
   "source": [
    "umap_bw = load_dict('saves/umap/bw_m1_15_07.pkl')\n",
    "emb_bw = umap_bw['embedding']\n",
    "ml_bw = umap_bw['method_length']\n",
    "nonzero_ml_bw = umap_bw['non_zero_method_length']\n",
    "\n",
    "umap_sb = load_dict('saves/umap/sb_m1_15_07.pkl')\n",
    "emb_sb = umap_sb['embedding']\n",
    "ml_sb = umap_sb['method_length']\n",
    "nonzero_ml_sb = umap_sb['non_zero_method_length']"
   ]
  },
  {
   "cell_type": "code",
   "execution_count": null,
   "metadata": {},
   "outputs": [],
   "source": [
    "visualize_umap(emb_bw, ml_bw, nonzero_ml_bw, save_plt=True, path='bw_m1.pdf')\n",
    "visualize_umap(emb_sb, ml_sb, nonzero_ml_sb, save_plt=True, path='sb_m1.pdf')"
   ]
  }
 ],
 "metadata": {
  "kernelspec": {
   "display_name": "Python 3",
   "language": "python",
   "name": "python3"
  },
  "language_info": {
   "codemirror_mode": {
    "name": "ipython",
    "version": 3
   },
   "file_extension": ".py",
   "mimetype": "text/x-python",
   "name": "python",
   "nbconvert_exporter": "python",
   "pygments_lexer": "ipython3",
   "version": "3.11.4"
  }
 },
 "nbformat": 4,
 "nbformat_minor": 2
}
