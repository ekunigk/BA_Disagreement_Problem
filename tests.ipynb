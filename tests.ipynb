{
 "cells": [
  {
   "cell_type": "code",
   "execution_count": 1,
   "metadata": {},
   "outputs": [],
   "source": [
    "from data.data_collector import DataCollector"
   ]
  },
  {
   "cell_type": "code",
   "execution_count": 2,
   "metadata": {},
   "outputs": [],
   "source": [
    "dc_sb = DataCollector('spambase')\n",
    "dc_bw = DataCollector('breastw')\n"
   ]
  },
  {
   "cell_type": "code",
   "execution_count": 3,
   "metadata": {},
   "outputs": [],
   "source": [
    "from evaluation.linear_translator import translate_kfold\n",
    "import torch\n",
    "import numpy as np"
   ]
  },
  {
   "cell_type": "code",
   "execution_count": 4,
   "metadata": {},
   "outputs": [],
   "source": [
    "index_list = dc_bw.find_lime_zero_explanations()\n",
    "non_index_list = [i for i in range(0, 1000) if i not in index_list]\n"
   ]
  },
  {
   "cell_type": "code",
   "execution_count": 5,
   "metadata": {},
   "outputs": [],
   "source": [
    "from evaluation.numerical_evaluation import calculate_variance"
   ]
  },
  {
   "cell_type": "code",
   "execution_count": 6,
   "metadata": {},
   "outputs": [
    {
     "name": "stdout",
     "output_type": "stream",
     "text": [
      "{0: tensor([0.8843, 0.1680, 0.4737, 0.0551, 0.1356, 0.3657, 0.1584, 0.1224, 0.2247]), 1: tensor([0.3612, 0.1104, 0.1815, 0.0858, 0.1126, 0.1995, 0.1382, 0.1313, 0.1291]), 2: tensor([0.2503, 0.0159, 0.1737, 0.0049, 0.0281, 0.1721, 0.0648, 0.0287, 0.0475]), 3: tensor([0.5303, 0.0927, 0.1992, 0.0502, 0.0703, 0.2421, 0.1437, 0.0796, 0.1363]), 4: tensor([0.6151, 0.1277, 0.4458, 0.0636, 0.1123, 0.4575, 0.1550, 0.1387, 0.2985])}\n"
     ]
    }
   ],
   "source": [
    "print(calculate_variance(dc_bw.scaled_explanations, False, True))"
   ]
  },
  {
   "cell_type": "code",
   "execution_count": 7,
   "metadata": {},
   "outputs": [],
   "source": [
    "# meta_y = dc_bw.collect_meta_data()\n",
    "# meta_y = meta_y['Y']\n",
    "# print(np.count_nonzero(meta_y[non_index_list]))\n",
    "# print(len(meta_y[non_index_list])-np.count_nonzero(meta_y[non_index_list]))\n",
    "\n",
    "# index_list_sb = dc_sb.find_lime_zero_explanations()\n",
    "# non_index_list_sb = [i for i in range(0, 921) if i not in index_list_sb]\n",
    "# meta_y_sb = dc_sb.collect_meta_data()['Y']\n",
    "# print(meta_y_sb[index_list_sb])\n",
    "# print(len(index_list_sb))\n",
    "# dc_btsc = DataCollector('btsc')\n",
    "# print(np.count_nonzero(meta_y_sb))\n",
    "# print(len(meta_y_sb))\n",
    "# print(np.count_nonzero(meta_y_sb[non_index_list_sb]))\n",
    "\n",
    "# index_list_btsc = dc_btsc.find_lime_zero_explanations()\n",
    "# non_index_list_btsc = [i for i in range(0, 150) if i not in index_list_btsc]\n",
    "# meta_y_btsc = dc_btsc.collect_meta_data()['Y']\n",
    "# print(len(index_list_btsc))\n",
    "# print(np.count_nonzero(meta_y_btsc))\n",
    "\n",
    "# print(meta_y_btsc[index_list_btsc])\n"
   ]
  },
  {
   "cell_type": "code",
   "execution_count": 8,
   "metadata": {},
   "outputs": [],
   "source": [
    "from evaluation.linear_translator import compare_to_mean_baseline\n"
   ]
  },
  {
   "cell_type": "code",
   "execution_count": 9,
   "metadata": {},
   "outputs": [],
   "source": [
    "# print(compare_to_mean_baseline(dc_sb.scaled_explanations[0:921, :-1].numpy()))\n",
    "# print(compare_to_mean_baseline(dc_bw.scaled_explanations[0:1000, :-1].numpy()))\n",
    "# print(compare_to_mean_baseline(dc_sb.scaled_explanations[4000:5000, :-1].numpy()))"
   ]
  },
  {
   "cell_type": "code",
   "execution_count": 10,
   "metadata": {},
   "outputs": [],
   "source": [
    "# targets = torch.ones((921, 57))\n",
    "# print(translate_kfold(dc_sb.explanations_all[0:921, :-1], targets))"
   ]
  },
  {
   "cell_type": "code",
   "execution_count": 11,
   "metadata": {},
   "outputs": [
    {
     "data": {
      "text/plain": [
       "tensor([[-1.0000, -0.5906, -0.9012,  ..., -0.5617, -0.5825,  0.0000],\n",
       "        [-1.0000, -0.5970, -0.8956,  ..., -0.5582, -0.5804,  0.0000],\n",
       "        [ 1.0000,  0.3733,  0.7184,  ...,  0.1999,  0.3295,  0.0000],\n",
       "        ...,\n",
       "        [-0.8002, -0.6329, -1.0000,  ..., -0.6916, -0.6727,  4.0000],\n",
       "        [ 1.0000,  0.0845,  0.3305,  ..., -0.1281,  0.4459,  4.0000],\n",
       "        [-1.0000, -0.0712, -0.3365,  ..., -0.0229, -0.8487,  4.0000]])"
      ]
     },
     "execution_count": 11,
     "metadata": {},
     "output_type": "execute_result"
    }
   ],
   "source": [
    "dc_bw.create_non_zero_dataset()"
   ]
  },
  {
   "cell_type": "code",
   "execution_count": 12,
   "metadata": {},
   "outputs": [],
   "source": [
    "from evaluation.linear_translator import translate, translate_pairwise\n",
    "import numpy as np\n",
    "# from sklearn.metrics import mean_squared_error"
   ]
  },
  {
   "cell_type": "code",
   "execution_count": 40,
   "metadata": {},
   "outputs": [
    {
     "name": "stdout",
     "output_type": "stream",
     "text": [
      "0.10716999\n",
      "0.11381841\n",
      "0.115831256\n",
      "0.11225739\n",
      "0.10952878\n",
      "0.11524545\n",
      "0.1106631\n",
      "0.1189163\n",
      "0.10991913\n",
      "0.12833717\n",
      "0.084092826\n",
      "0.07859966\n",
      "0.092147805\n",
      "0.07574645\n",
      "0.092323415\n",
      "0.084608585\n",
      "0.08353391\n",
      "0.07224338\n",
      "0.07725351\n",
      "0.08188288\n",
      "0.16753934\n",
      "0.15069836\n",
      "0.14260083\n",
      "0.15189186\n",
      "0.21590148\n",
      "0.13096514\n",
      "0.18073326\n",
      "0.16274717\n",
      "0.14501825\n",
      "0.12965462\n",
      "0.0042099827\n",
      "0.0048116567\n",
      "0.00458921\n",
      "0.0051871073\n",
      "0.005131582\n",
      "0.005700403\n",
      "0.0041872007\n",
      "0.004466207\n",
      "0.003764891\n",
      "0.0045304485\n",
      "0.20483287\n",
      "0.16359514\n",
      "0.21711665\n",
      "0.19930801\n",
      "0.16783524\n",
      "0.18007112\n",
      "0.16954862\n",
      "0.20345446\n",
      "0.16996476\n",
      "0.17447318\n",
      "0.042901214\n",
      "0.03816852\n",
      "0.040357385\n",
      "0.041210756\n",
      "0.037319254\n",
      "0.029344741\n",
      "0.033119142\n",
      "0.041935697\n",
      "0.033113204\n",
      "0.037011605\n",
      "0.17098285\n",
      "0.1564334\n",
      "0.14882492\n",
      "0.14968608\n",
      "0.21444029\n",
      "0.12865607\n",
      "0.18105108\n",
      "0.16758786\n",
      "0.14648822\n",
      "0.12615773\n",
      "0.19192058\n",
      "0.15641142\n",
      "0.20479852\n",
      "0.18783736\n",
      "0.15702744\n",
      "0.16531248\n",
      "0.16073251\n",
      "0.1932205\n",
      "0.16451883\n",
      "0.16480109\n",
      "0.17858976\n",
      "0.18513338\n",
      "0.21083814\n",
      "0.26783407\n",
      "0.2532116\n",
      "0.24268328\n",
      "0.19811149\n",
      "0.30061188\n",
      "0.189511\n",
      "0.2553648\n",
      "0.073887475\n",
      "0.06691\n",
      "0.07038706\n",
      "0.07881084\n",
      "0.07141481\n",
      "0.057054877\n",
      "0.06055282\n",
      "0.08476391\n",
      "0.066850215\n",
      "0.07127642\n",
      "0.090890855\n",
      "0.058008432\n",
      "0.09413792\n",
      "0.0724723\n",
      "0.11190481\n",
      "0.09089525\n",
      "0.053011093\n",
      "0.10285547\n",
      "0.11333483\n",
      "0.08457529\n",
      "0.17418426\n",
      "0.1830982\n",
      "0.2067169\n",
      "0.25529632\n",
      "0.24882057\n",
      "0.23114695\n",
      "0.18985727\n",
      "0.2799105\n",
      "0.18391286\n",
      "0.23822941\n",
      "0.10366097\n",
      "0.14012724\n",
      "0.12641908\n",
      "0.11099063\n",
      "0.15998511\n",
      "0.13862975\n",
      "0.11686824\n",
      "0.13271512\n",
      "0.12083224\n",
      "0.17239563\n",
      "0.14063329\n",
      "0.15863569\n",
      "0.16089465\n",
      "0.15397468\n",
      "0.149591\n",
      "0.15723991\n",
      "0.14185803\n",
      "0.15069604\n",
      "0.14752504\n",
      "0.15552008\n",
      "0.10820443\n",
      "0.1127005\n",
      "0.12881088\n",
      "0.105097815\n",
      "0.13347334\n",
      "0.12384269\n",
      "0.13310272\n",
      "0.10346422\n",
      "0.0971007\n",
      "0.12526284\n",
      "0.096433476\n",
      "0.13303661\n",
      "0.12521967\n",
      "0.109914\n",
      "0.15498216\n",
      "0.13169914\n",
      "0.10935828\n",
      "0.12709159\n",
      "0.117368445\n",
      "0.1621901\n",
      "0.0018901628\n",
      "0.0020075971\n",
      "0.0019707505\n",
      "0.0019501048\n",
      "0.0017102135\n",
      "0.0022899958\n",
      "0.0017669988\n",
      "0.0017459576\n",
      "0.0013336095\n",
      "0.001897412\n",
      "0.11864395\n",
      "0.12772016\n",
      "0.12748761\n",
      "0.11672754\n",
      "0.11681031\n",
      "0.124143735\n",
      "0.1177557\n",
      "0.12682317\n",
      "0.120693296\n",
      "0.13206999\n",
      "0.09005038\n",
      "0.09490678\n",
      "0.10881043\n",
      "0.08805681\n",
      "0.106956\n",
      "0.096518755\n",
      "0.10249475\n",
      "0.079971455\n",
      "0.077373184\n",
      "0.09831101\n",
      "0.16109079\n",
      "0.14813682\n",
      "0.13853389\n",
      "0.14554125\n",
      "0.21084891\n",
      "0.12622863\n",
      "0.17301846\n",
      "0.15818024\n",
      "0.14170748\n",
      "0.12567158\n",
      "0.09669478455369468\n",
      "0.10117763737311158\n",
      "0.10895650976584692\n",
      "0.10360157183138535\n",
      "0.10528964359365194\n",
      "0.09811283626946724\n",
      "0.09685435396667869\n",
      "0.10762071055850958\n",
      "0.09526284133772457\n",
      "0.11239480685883711\n",
      "0.06568812670735512\n",
      "0.07091507127024733\n",
      "0.08893339325944696\n",
      "0.06864255654154394\n",
      "0.08253651422785496\n",
      "0.06914384710311378\n",
      "0.07776002917056163\n",
      "0.0641326645317612\n",
      "0.06913259340487414\n",
      "0.07900506300881781\n",
      "0.10655078559313715\n",
      "0.10623467293334893\n",
      "0.1024659530398207\n",
      "0.1056393245910212\n",
      "0.13351407590759415\n",
      "0.10126310386709576\n",
      "0.11971614145268333\n",
      "0.12036753214289966\n",
      "0.09982562034729955\n",
      "0.09870442433114592\n",
      "0.014745490301617509\n",
      "0.015401985563882043\n",
      "0.016904209381690134\n",
      "0.015710920041318664\n",
      "0.016622574511299875\n",
      "0.01814517307962357\n",
      "0.011574280590490907\n",
      "0.015757805284806057\n",
      "0.013417190204734876\n",
      "0.015485877715467587\n",
      "0.1759714886123674\n",
      "0.13985139945916236\n",
      "0.14538267505305724\n",
      "0.16372292451525233\n",
      "0.13911671422086583\n",
      "0.15448554054198763\n",
      "0.1560581148211691\n",
      "0.15145639817713094\n",
      "0.15117636244839414\n",
      "0.148370351613848\n",
      "0.02624528605058289\n",
      "0.02977100888949678\n",
      "0.026841480757130814\n",
      "0.03338790589513666\n",
      "0.024045671461736078\n",
      "0.018357422863053405\n",
      "0.028409336223466714\n",
      "0.029615670287658935\n",
      "0.020289941880625426\n",
      "0.028362534855096235\n",
      "0.11864276791160755\n",
      "0.11795800156274251\n",
      "0.11041930266222641\n",
      "0.11323721172948381\n",
      "0.13760174687780413\n",
      "0.10090152016029341\n",
      "0.1297395155842961\n",
      "0.12553685437421447\n",
      "0.10513361728276022\n",
      "0.09928377901498933\n",
      "0.11815998115020787\n",
      "0.10916095382741214\n",
      "0.1062412948600551\n",
      "0.1221181341487249\n",
      "0.10088812213734367\n",
      "0.11641116631274809\n",
      "0.10213667132681224\n",
      "0.10652693243587666\n",
      "0.10639199055109395\n",
      "0.11293047182539023\n",
      "0.13027290336759778\n",
      "0.11358521005437873\n",
      "0.13777289989969754\n",
      "0.1638856377589809\n",
      "0.15230408107111904\n",
      "0.1498770707001707\n",
      "0.1316614046878567\n",
      "0.18023420706086332\n",
      "0.12730567053272596\n",
      "0.16926925665668652\n",
      "0.05058730615553805\n",
      "0.048658141037380316\n",
      "0.045300967871205126\n",
      "0.056802622899406324\n",
      "0.04190958629367406\n",
      "0.03322029286344408\n",
      "0.03874037919941873\n",
      "0.054890163533723293\n",
      "0.03997985468923913\n",
      "0.04542686133962262\n",
      "0.07395171226668672\n",
      "0.05326823511369294\n",
      "0.06657124120341242\n",
      "0.062420305595840726\n",
      "0.07379373929019878\n",
      "0.06941786094699082\n",
      "0.04207491561588868\n",
      "0.07787961591404197\n",
      "0.0837935688861551\n",
      "0.06514026103956466\n",
      "0.10689431370355873\n",
      "0.10685171815429423\n",
      "0.11911311606626095\n",
      "0.13696943107969903\n",
      "0.1293574753505562\n",
      "0.12607547853076204\n",
      "0.11027621258665114\n",
      "0.14175175719859584\n",
      "0.10739504611965121\n",
      "0.1383704722502381\n",
      "0.09043545373891641\n",
      "0.10834038735214688\n",
      "0.11393835646144776\n",
      "0.11687957243316742\n",
      "0.10519765690821692\n",
      "0.12061182088686045\n",
      "0.09484061665522975\n",
      "0.11038352870424845\n",
      "0.09059617304324474\n",
      "0.10206308323245529\n",
      "0.10428370051382675\n",
      "0.11574224960690516\n",
      "0.12027001553270592\n",
      "0.11666426378759148\n",
      "0.11727918770292918\n",
      "0.11444268587475445\n",
      "0.10690845682247965\n",
      "0.11477358126851588\n",
      "0.1106159962765131\n",
      "0.12524978275977153\n",
      "0.08253656942851911\n",
      "0.09574007978476046\n",
      "0.1026875576629057\n",
      "0.08571303236248311\n",
      "0.10626385278322828\n",
      "0.09579349424155142\n",
      "0.1013749538923688\n",
      "0.08353407516821663\n",
      "0.08006560524525747\n",
      "0.10167335471830301\n",
      "0.07124810340005766\n",
      "0.09144038571843711\n",
      "0.09716944976965763\n",
      "0.09738646244964924\n",
      "0.08745794714853712\n",
      "0.09992104266840784\n",
      "0.07191836195187697\n",
      "0.09358398867704308\n",
      "0.07394175869754346\n",
      "0.08523124974662745\n",
      "0.004567526759667764\n",
      "0.004066528169069838\n",
      "0.004548383247498167\n",
      "0.0034827807551315393\n",
      "0.0034346757160467595\n",
      "0.004537415579653465\n",
      "0.0028866191309644966\n",
      "0.0025136589452295385\n",
      "0.004005663795069202\n",
      "0.0042729993113136645\n",
      "0.09425491509141033\n",
      "0.09844888857202828\n",
      "0.10580661730456159\n",
      "0.10673314595114909\n",
      "0.10314957129870335\n",
      "0.09813308675886516\n",
      "0.09275641915021621\n",
      "0.10715950434727836\n",
      "0.09466942984025326\n",
      "0.10892647691800397\n",
      "0.06304354251183368\n",
      "0.07563292299551248\n",
      "0.09026266193563676\n",
      "0.06866572854526055\n",
      "0.08674558074874933\n",
      "0.06620376572392805\n",
      "0.07796546457063645\n",
      "0.06938739629593371\n",
      "0.06697153510198413\n",
      "0.08988128182740565\n",
      "0.09966599487363868\n",
      "0.10099589323200595\n",
      "0.0940350366009728\n",
      "0.10194337570254211\n",
      "0.12491344244762476\n",
      "0.09244558893226276\n",
      "0.11218225151390755\n",
      "0.11375162212249673\n",
      "0.09276790079291672\n",
      "0.0918825737053515\n",
      "0.0966048331836643\n",
      "0.09976028320285743\n",
      "0.09834132008817748\n",
      "0.09956572205858741\n",
      "0.09390009638477317\n",
      "0.09561021097805576\n",
      "0.09811596997364037\n",
      "0.10002486889682895\n",
      "0.09571469291874411\n",
      "0.11248408279739934\n",
      "0.08164017766090005\n",
      "0.07627106818550561\n",
      "0.08781167636140617\n",
      "0.0747178833594954\n",
      "0.08544546597276931\n",
      "0.0728999241845226\n",
      "0.08126153038745182\n",
      "0.07099796909814832\n",
      "0.07481530707559317\n",
      "0.08176248384015561\n",
      "0.14782418347733509\n",
      "0.1344333565593196\n",
      "0.12572437225258862\n",
      "0.13868913178146985\n",
      "0.1871634948273111\n",
      "0.11872315992556463\n",
      "0.1608650550654792\n",
      "0.15364778181164376\n",
      "0.12880448357389998\n",
      "0.11909268370500353\n",
      "0.006133719875647665\n",
      "0.00720228748448284\n",
      "0.006799738700443289\n",
      "0.0073281145054331885\n",
      "0.006670608271085602\n",
      "0.007935527308286014\n",
      "0.007956120237730235\n",
      "0.007260199196987786\n",
      "0.00651807547298238\n",
      "0.005818011609830403\n",
      "0.17588301276503002\n",
      "0.15382103206102854\n",
      "0.18783850014740466\n",
      "0.1958685890180229\n",
      "0.1455386169522344\n",
      "0.16560236660352023\n",
      "0.160090570906418\n",
      "0.1733967167395579\n",
      "0.1609122343624024\n",
      "0.15789498303675184\n",
      "0.03554561123703465\n",
      "0.031040737744288154\n",
      "0.031936591498407704\n",
      "0.03212393320505937\n",
      "0.03137423616029153\n",
      "0.023872439313924246\n",
      "0.0285749472056121\n",
      "0.03598342612361008\n",
      "0.025372767068476312\n",
      "0.03163134086015175\n",
      "0.15251789698442045\n",
      "0.14269256855132087\n",
      "0.135379402463661\n",
      "0.1398055467503291\n",
      "0.1894748852720481\n",
      "0.11615209494086819\n",
      "0.16133141295850714\n",
      "0.15948661668593317\n",
      "0.13044809446525998\n",
      "0.11502199283489878\n",
      "0.16529299994615843\n",
      "0.15020186056772689\n",
      "0.18024509646874293\n",
      "0.1852410605540173\n",
      "0.1391762685163613\n",
      "0.15687738960742773\n",
      "0.15525279453374016\n",
      "0.16854313508174815\n",
      "0.15785209351935844\n",
      "0.15285759331269286\n",
      "0.1507713881949239\n",
      "0.15776818527614417\n",
      "0.16992739306493582\n",
      "0.21921295165287824\n",
      "0.20776261861090942\n",
      "0.2044587807393038\n",
      "0.16956452484829454\n",
      "0.25065400513267616\n",
      "0.1614645984716849\n",
      "0.2128487369724983\n",
      "0.06593791109086096\n",
      "0.05711090549332184\n",
      "0.0588198025806474\n",
      "0.06936550144942685\n",
      "0.05986783127356478\n",
      "0.04448059164427933\n",
      "0.04592349704530338\n",
      "0.07075741271648499\n",
      "0.05525736979954981\n",
      "0.05796499656098145\n",
      "0.08186892324405283\n",
      "0.05526514849606742\n",
      "0.08216195682387352\n",
      "0.06706616764631113\n",
      "0.09500450265733218\n",
      "0.08116514211634546\n",
      "0.0448752038834215\n",
      "0.09504573481184227\n",
      "0.09953839370543384\n",
      "0.0713142671757146\n",
      "0.14848018686485986\n",
      "0.1597381963670449\n",
      "0.1716917698189751\n",
      "0.21226669409326185\n",
      "0.20640715930239048\n",
      "0.1977646654141489\n",
      "0.16319326436390547\n",
      "0.24245697080978287\n",
      "0.1576940290125482\n",
      "0.20376799075770405\n",
      "0.09941407527706475\n",
      "0.13361908951199453\n",
      "0.11324416461526893\n",
      "0.113079689171637\n",
      "0.1351647110594424\n",
      "0.13221814330582693\n",
      "0.10669305898003115\n",
      "0.11792400546052215\n",
      "0.10208919720385998\n",
      "0.14017864391609855\n",
      "0.11908299262514047\n",
      "0.12872667412505862\n",
      "0.13081241522486511\n",
      "0.12693841071960463\n",
      "0.12215717223153616\n",
      "0.12849223965168133\n",
      "0.11542146470382196\n",
      "0.12463064597047246\n",
      "0.11966537202538147\n",
      "0.12820831335571145\n",
      "0.0962565042574575\n",
      "0.10340537284361266\n",
      "0.11571142848213212\n",
      "0.09310765343057578\n",
      "0.1198901196718673\n",
      "0.10807259154600353\n",
      "0.11511919380003947\n",
      "0.09478027805258099\n",
      "0.08438123304985432\n",
      "0.1129087729002394\n",
      "0.0929566353749627\n",
      "0.1260317753754049\n",
      "0.11334467391435996\n",
      "0.11032497312800306\n",
      "0.1301175223804351\n",
      "0.12654230257995802\n",
      "0.1028490929076329\n",
      "0.11629315224577247\n",
      "0.10071815327899057\n",
      "0.13404679950473927\n",
      "0.0032609137878641804\n",
      "0.003510233079818671\n",
      "0.0035683470428463804\n",
      "0.0034466239383440424\n",
      "0.0033497648060734925\n",
      "0.004438616438564219\n",
      "0.00346473160271807\n",
      "0.0033188989285893393\n",
      "0.002503025214138358\n",
      "0.0024517817020088912\n",
      "0.09829849750036507\n",
      "0.10184802257603803\n",
      "0.10223445088806891\n",
      "0.09527209500811873\n",
      "0.09552817091114757\n",
      "0.0989661856706226\n",
      "0.09418935153801145\n",
      "0.09960673287722992\n",
      "0.10058772166604305\n",
      "0.11128841736876074\n",
      "0.08625397229062119\n",
      "0.08195837622790976\n",
      "0.10239432509377294\n",
      "0.07976449827399551\n",
      "0.09399484910179631\n",
      "0.08089190698917657\n",
      "0.09541555561174474\n",
      "0.07758994670648572\n",
      "0.06988689224633857\n",
      "0.09222310397769529\n",
      "0.14300373310475803\n",
      "0.1315782317071913\n",
      "0.1210994968809168\n",
      "0.13244016215656298\n",
      "0.18836352452983318\n",
      "0.1143562833337116\n",
      "0.15486921293383535\n",
      "0.15200175082194012\n",
      "0.12809769111682512\n",
      "0.11646752829587483\n"
     ]
    }
   ],
   "source": [
    "r2_scaled, mse_scaled, mse_baseline, variance = translate_pairwise(dc_bw.scaled_explanations, dc_bw.non_zero_explanations)\n",
    "masked_indices3, masked_indices_non_zero3 = dc_bw.mask_features(3, 0, True)\n",
    "r2_masked3, mse_masked3, mse_baseline3, variance3 = translate_pairwise(dc_bw.masked_explanations, dc_bw.non_zero_masked_explanations, masked=True, masked_indices=masked_indices3, non_zero_masked_indices=masked_indices_non_zero3)\n",
    "masked_indices6, masked_indices_non_zero6 = dc_bw.mask_features(6, 0, True)\n",
    "r2_masked6, mse_masked6, mse_baseline6, variance6 = translate_pairwise(dc_bw.masked_explanations, dc_bw.non_zero_masked_explanations, masked=True, masked_indices=masked_indices6, non_zero_masked_indices=masked_indices_non_zero6)"
   ]
  },
  {
   "cell_type": "code",
   "execution_count": 15,
   "metadata": {},
   "outputs": [
    {
     "name": "stdout",
     "output_type": "stream",
     "text": [
      "tensor([-1.0000, -0.5906, -0.9012, -0.3607, -0.4923, -0.7449, -0.4242, -0.5617,\n",
      "        -0.5825])\n",
      "tensor([-1.0000, -0.5906, -0.9012,  0.0000,  0.0000, -0.7449,  0.0000, -0.5617,\n",
      "        -0.5825])\n"
     ]
    }
   ],
   "source": [
    "y_pred = dc_bw.scaled_explanations[:20, :-1]\n",
    "y_true = dc_bw.masked_explanations[:20, :-1]\n",
    "\n",
    "print (y_pred[0])\n",
    "print (y_true[0])"
   ]
  },
  {
   "cell_type": "code",
   "execution_count": 41,
   "metadata": {},
   "outputs": [],
   "source": [
    "from visualization.translator_fig import visualize_translation_scores, visualize_multiple_scores"
   ]
  },
  {
   "cell_type": "code",
   "execution_count": 15,
   "metadata": {},
   "outputs": [
    {
     "data": {
      "image/png": "[encoded data removed]",
      "text/plain": [
       "<Figure size 1800x600 with 1 Axes>"
      ]
     },
     "metadata": {},
     "output_type": "display_data"
    }
   ],
   "source": [
    "visualize_translation_scores(r2_scaled)"
   ]
  },
  {
   "cell_type": "code",
   "execution_count": 16,
   "metadata": {},
   "outputs": [
    {
     "data": {
      "image/png": "[encoded data removed]",
      "text/plain": [
       "<Figure size 1800x600 with 1 Axes>"
      ]
     },
     "metadata": {},
     "output_type": "display_data"
    }
   ],
   "source": [
    "visualize_multiple_scores(r2_scaled, r2_masked3, r2_masked6, ('scaled', '2/3 masked', '1/3 masked'), 'R2 score of translations')"
   ]
  },
  {
   "cell_type": "code",
   "execution_count": 42,
   "metadata": {},
   "outputs": [
    {
     "data": {
      "image/png": "[encoded data removed]",
      "text/plain": [
       "<Figure size 1800x600 with 1 Axes>"
      ]
     },
     "metadata": {},
     "output_type": "display_data"
    }
   ],
   "source": [
    "visualize_multiple_scores(mse_scaled, mse_masked3, mse_masked6, ('scaled', '2/3 masked', '1/3 masked'), 'MSE score of translations', mse_baseline)"
   ]
  },
  {
   "cell_type": "code",
   "execution_count": 18,
   "metadata": {},
   "outputs": [],
   "source": [
    "masked_false3 = mse_masked3\n",
    "masked_false6 = mse_masked6"
   ]
  },
  {
   "cell_type": "code",
   "execution_count": 21,
   "metadata": {},
   "outputs": [],
   "source": [
    "masked_true3 = mse_masked3\n",
    "masked_true6 = mse_masked6"
   ]
  },
  {
   "cell_type": "code",
   "execution_count": 22,
   "metadata": {},
   "outputs": [
    {
     "name": "stdout",
     "output_type": "stream",
     "text": [
      "{'IG_KS': 0.14007892, 'IG_LI': 0.09333499, 'IG_SG': 0.12735623, 'IG_VG': 0.02665109, 'KS_IG': 0.1551608, 'KS_LI': 0.039682023, 'KS_SG': 0.13693622, 'KS_VG': 0.12702611, 'LI_IG': 0.15014715, 'LI_KS': 0.06334772, 'LI_SG': 0.09070913, 'LI_VG': 0.13703483, 'SG_IG': 0.10615061, 'SG_KS': 0.15223673, 'SG_LI': 0.11428704, 'SG_VG': 0.09675767, 'VG_IG': 0.0066611907, 'VG_KS': 0.14028685, 'VG_LI': 0.096461095, 'VG_SG': 0.12087871}\n",
      "{'IG_KS': 0.10259656961089077, 'IG_LI': 0.07358898592255768, 'IG_SG': 0.10942816342060464, 'IG_VG': 0.015376550667493123, 'KS_IG': 0.1525591969463235, 'KS_LI': 0.026532625916398395, 'KS_SG': 0.11584543171604181, 'KS_VG': 0.1100965718575665, 'LI_IG': 0.1456168341790077, 'LI_KS': 0.04555161758826517, 'LI_SG': 0.06683114558724727, 'LI_VG': 0.12230550210402676, 'SG_IG': 0.1053286649415934, 'SG_KS': 0.11462299201459933, 'SG_LI': 0.09353825752875938, 'SG_VG': 0.08692987502278375, 'VG_IG': 0.003831625140964443, 'VG_KS': 0.10100380552324698, 'VG_LI': 0.07547598802568808, 'VG_SG': 0.10245836799237196}\n"
     ]
    }
   ],
   "source": [
    "print(masked_false3)\n",
    "print(masked_true3)"
   ]
  },
  {
   "cell_type": "code",
   "execution_count": 39,
   "metadata": {},
   "outputs": [
    {
     "name": "stdout",
     "output_type": "stream",
     "text": [
      "0.35166634196946167\n"
     ]
    }
   ],
   "source": [
    "difference = 0\n",
    "false_val = []\n",
    "true_val = []\n",
    "for f_val in masked_false3.values():\n",
    "    false_val.append(f_val)\n",
    "for t_val in masked_true3.values():\n",
    "    true_val.append(t_val)\n",
    "\n",
    "for i in range(20):\n",
    "    difference += false_val[i] - true_val[i]\n",
    "\n",
    "print(difference)\n"
   ]
  },
  {
   "cell_type": "code",
   "execution_count": 13,
   "metadata": {},
   "outputs": [],
   "source": [
    "r2_scaled, mse_scaled, mse_baseline = translate_pairwise(dc_sb.scaled_explanations, dc_sb.non_zero_explanations)\n",
    "dc_sb.mask_features(19, 0, True)\n",
    "r2_masked3, mse_masked3, mse_baseline3 = translate_pairwise(dc_sb.masked_explanations, dc_sb.non_zero_masked_explanations)\n",
    "dc_sb.mask_features(38, 0, True)\n",
    "r2_masked6, mse_masked6, mse_baseline6 = translate_pairwise(dc_sb.masked_explanations, dc_sb.non_zero_masked_explanations)"
   ]
  },
  {
   "cell_type": "code",
   "execution_count": 7,
   "metadata": {},
   "outputs": [
    {
     "ename": "NameError",
     "evalue": "name 'visualize_translation_scores' is not defined",
     "output_type": "error",
     "traceback": [
      "\u001b[1;31m---------------------------------------------------------------------------\u001b[0m",
      "\u001b[1;31mNameError\u001b[0m                                 Traceback (most recent call last)",
      "Cell \u001b[1;32mIn[7], line 1\u001b[0m\n\u001b[1;32m----> 1\u001b[0m \u001b[43mvisualize_translation_scores\u001b[49m(r2_scaled)\n\u001b[0;32m      2\u001b[0m visualize_multiple_scores(r2_scaled, r2_masked3, r2_masked6, (\u001b[38;5;124m'\u001b[39m\u001b[38;5;124mscaled\u001b[39m\u001b[38;5;124m'\u001b[39m, \u001b[38;5;124m'\u001b[39m\u001b[38;5;124m2/3 masked\u001b[39m\u001b[38;5;124m'\u001b[39m, \u001b[38;5;124m'\u001b[39m\u001b[38;5;124m1/3 masked\u001b[39m\u001b[38;5;124m'\u001b[39m), \u001b[38;5;124m'\u001b[39m\u001b[38;5;124mR2 score of translations\u001b[39m\u001b[38;5;124m'\u001b[39m)\n\u001b[0;32m      3\u001b[0m visualize_multiple_scores(mse_scaled, mse_masked3, mse_masked6, (\u001b[38;5;124m'\u001b[39m\u001b[38;5;124mscaled\u001b[39m\u001b[38;5;124m'\u001b[39m, \u001b[38;5;124m'\u001b[39m\u001b[38;5;124m2/3 masked\u001b[39m\u001b[38;5;124m'\u001b[39m, \u001b[38;5;124m'\u001b[39m\u001b[38;5;124m1/3 masked\u001b[39m\u001b[38;5;124m'\u001b[39m), \u001b[38;5;124m'\u001b[39m\u001b[38;5;124mMSE score of translations\u001b[39m\u001b[38;5;124m'\u001b[39m, mse_baseline)\n",
      "\u001b[1;31mNameError\u001b[0m: name 'visualize_translation_scores' is not defined"
     ]
    }
   ],
   "source": [
    "visualize_translation_scores(r2_scaled)\n",
    "visualize_multiple_scores(r2_scaled, r2_masked3, r2_masked6, ('scaled', '2/3 masked', '1/3 masked'), 'R2 score of translations')\n",
    "visualize_multiple_scores(mse_scaled, mse_masked3, mse_masked6, ('scaled', '2/3 masked', '1/3 masked'), 'MSE score of translations', mse_baseline)"
   ]
  },
  {
   "cell_type": "code",
   "execution_count": 15,
   "metadata": {},
   "outputs": [
    {
     "data": {
      "text/plain": [
       "tensor([[-4.5482e-01, -6.1059e-02, -5.7879e-02,  ...,  7.2226e-02,\n",
       "         -2.7875e-01,  0.0000e+00],\n",
       "        [-2.5703e-01,  1.1847e-01, -2.6198e-01,  ...,  8.0506e-01,\n",
       "          1.2969e-01,  0.0000e+00],\n",
       "        [ 7.2509e-02, -6.8391e-02, -5.1678e-01,  ...,  4.7175e-02,\n",
       "         -2.9617e-02,  0.0000e+00],\n",
       "        ...,\n",
       "        [-4.7016e-01, -9.7888e-01,  2.8577e-01,  ..., -5.0615e-01,\n",
       "         -3.2090e-01,  4.0000e+00],\n",
       "        [-4.2756e-01, -8.8650e-01,  1.1033e-01,  ..., -1.9538e-01,\n",
       "          7.0556e-02,  4.0000e+00],\n",
       "        [-3.1797e-03,  3.9915e-01,  1.2019e-01,  ...,  3.6589e-01,\n",
       "          3.4891e-01,  4.0000e+00]])"
      ]
     },
     "execution_count": 15,
     "metadata": {},
     "output_type": "execute_result"
    }
   ],
   "source": [
    "dc_spf = DataCollector('spf')\n",
    "dc_spf.create_non_zero_dataset()"
   ]
  },
  {
   "cell_type": "code",
   "execution_count": 16,
   "metadata": {},
   "outputs": [],
   "source": [
    "r2_scaled, mse_scaled, mse_baseline = translate_pairwise(dc_spf.scaled_explanations, dc_spf.non_zero_explanations)\n",
    "dc_spf.mask_features(8, 0, True)\n",
    "r2_masked3, mse_masked3, mse_baseline3 = translate_pairwise(dc_spf.masked_explanations, dc_spf.non_zero_masked_explanations)\n",
    "dc_spf.mask_features(16, 0, True)\n",
    "r2_masked6, mse_masked6, mse_baseline6 = translate_pairwise(dc_spf.masked_explanations, dc_spf.non_zero_masked_explanations)"
   ]
  },
  {
   "cell_type": "code",
   "execution_count": 17,
   "metadata": {},
   "outputs": [
    {
     "data": {
      "image/png": "[encoded data removed]",
      "text/plain": [
       "<Figure size 1800x600 with 1 Axes>"
      ]
     },
     "metadata": {},
     "output_type": "display_data"
    },
    {
     "data": {
      "image/png": "[encoded data removed]",
      "text/plain": [
       "<Figure size 1800x600 with 1 Axes>"
      ]
     },
     "metadata": {},
     "output_type": "display_data"
    }
   ],
   "source": [
    "visualize_multiple_scores(r2_scaled, r2_masked3, r2_masked6, ('scaled', '2/3 masked', '1/3 masked'), 'R2 score of translations')\n",
    "visualize_multiple_scores(mse_scaled, mse_masked3, mse_masked6, ('scaled', '2/3 masked', '1/3 masked'), 'MSE score of translations', mse_baseline)"
   ]
  },
  {
   "cell_type": "code",
   "execution_count": null,
   "metadata": {},
   "outputs": [],
   "source": [
    "from evaluation.numerical_evaluation import count_features_per_method, count_feature_amount, count_lime_features\n"
   ]
  },
  {
   "cell_type": "code",
   "execution_count": null,
   "metadata": {},
   "outputs": [],
   "source": [
    "print(dc_bw.explanation_set['breastw_273117_11880_EPOCH-BATCH_li.pkl'][3])"
   ]
  },
  {
   "cell_type": "code",
   "execution_count": null,
   "metadata": {},
   "outputs": [],
   "source": [
    "dc_bw.mask_features(4, 0, True)\n",
    "print(count_lime_features(dc_sb.scaled_explanations[1842:2763]))\n",
    "\n",
    "# print(count_features_per_method(dc_bw.scaled_explanations, True))\n",
    "# print(count_features_per_method(dc_bw.masked_explanations, True))\n",
    "# print(count_feature_amount(dc_bw.scaled_explanations[2000:3000], True))\n",
    "\n",
    "print(count_lime_features(dc_bw.non_zero_explanations[1212:1818]))"
   ]
  },
  {
   "cell_type": "code",
   "execution_count": null,
   "metadata": {},
   "outputs": [],
   "source": [
    "dc_spf = DataCollector('spf')\n",
    "print(len(dc_spf.scaled_explanations))\n",
    "print(count_lime_features(dc_spf.scaled_explanations[778:1167]))"
   ]
  },
  {
   "cell_type": "code",
   "execution_count": null,
   "metadata": {},
   "outputs": [],
   "source": [
    "dc_btsc = DataCollector('btsc')\n",
    "print(len(dc_btsc.scaled_explanations))\n",
    "print(count_lime_features(dc_btsc.scaled_explanations[300:450]))"
   ]
  },
  {
   "cell_type": "code",
   "execution_count": null,
   "metadata": {},
   "outputs": [],
   "source": [
    "import torch \n"
   ]
  },
  {
   "cell_type": "code",
   "execution_count": null,
   "metadata": {},
   "outputs": [],
   "source": [
    "dc_btsc = DataCollector('btsc')\n",
    "# print(btsc['btsc_300804_11880_EPOCH-BATCH_li.pkl'])"
   ]
  },
  {
   "cell_type": "code",
   "execution_count": null,
   "metadata": {},
   "outputs": [],
   "source": [
    "from data.preprocessing import scale_data\n",
    "from data.evaluation_prep import prepare_umap_data\n",
    "from evaluation.umap import visualize_umap, project_umap\n",
    "import torch"
   ]
  },
  {
   "cell_type": "code",
   "execution_count": null,
   "metadata": {},
   "outputs": [],
   "source": [
    "spambase = dc.collect_data('spambase')\n",
    "keys = dc.get_keys(spambase, 1)\n",
    "umap_sb = prepare_umap_data(spambase, keys, scale=True)\n",
    "embedding = project_umap(umap_sb, n_neighbors=15, min_dist=0.5)\n",
    "visualize_umap(umap_sb, embedding)"
   ]
  },
  {
   "cell_type": "code",
   "execution_count": null,
   "metadata": {},
   "outputs": [],
   "source": [
    "umap_sb = prepare_umap_data(spambase, keys, scale=False)\n",
    "embedding = project_umap(umap_sb, n_neighbors=15, min_dist=0.5)\n",
    "visualize_umap(umap_sb, embedding)"
   ]
  },
  {
   "cell_type": "code",
   "execution_count": null,
   "metadata": {},
   "outputs": [],
   "source": [
    "breastw = dc.collect_data('breastw')\n",
    "keys = dc.get_keys(breastw, 1)\n",
    "umap_bw = prepare_umap_data(breastw, keys, scale=True)\n",
    "embedding = project_umap(umap_bw, n_neighbors=15, min_dist=0.5)\n",
    "visualize_umap(umap_bw, embedding)"
   ]
  },
  {
   "cell_type": "code",
   "execution_count": null,
   "metadata": {},
   "outputs": [],
   "source": [
    "umap_bw = prepare_umap_data(breastw, keys, scale=False)\n",
    "embedding = project_umap(umap_bw, n_neighbors=15, min_dist=0.5)\n",
    "visualize_umap(umap_bw, embedding)"
   ]
  },
  {
   "cell_type": "code",
   "execution_count": null,
   "metadata": {},
   "outputs": [],
   "source": [
    "spf = dc.collect_data('spf')\n",
    "keys = dc.get_keys(spf, 1)\n",
    "umap_spf = prepare_umap_data(spf, keys, scale=True)\n",
    "embedding = project_umap(umap_spf, n_neighbors=15, min_dist=0.5)\n",
    "visualize_umap(umap_spf, embedding)"
   ]
  },
  {
   "cell_type": "code",
   "execution_count": null,
   "metadata": {},
   "outputs": [],
   "source": [
    "umap_spf = prepare_umap_data(spf, keys, scale=False)\n",
    "embedding = project_umap(umap_spf, n_neighbors=15, min_dist=0.5)\n",
    "visualize_umap(umap_spf, embedding)"
   ]
  },
  {
   "cell_type": "code",
   "execution_count": null,
   "metadata": {},
   "outputs": [],
   "source": [
    "btsc = dc.collect_data('btsc')\n",
    "keys = dc.get_keys(btsc, 1)\n",
    "umap_btsc = prepare_umap_data(btsc, keys, scale=True)\n",
    "embedding = project_umap(umap_btsc, n_neighbors=15, min_dist=0.5)\n",
    "visualize_umap(umap_btsc, embedding)\n",
    "print(btsc['btsc_300804_11880_EPOCH-BATCH_ks.pkl'][0:19])"
   ]
  },
  {
   "cell_type": "code",
   "execution_count": null,
   "metadata": {},
   "outputs": [],
   "source": [
    "umap_btsc = prepare_umap_data(btsc, keys, scale=False)\n",
    "embedding = project_umap(umap_btsc, n_neighbors=15, min_dist=0.5)\n",
    "visualize_umap(umap_btsc, embedding)"
   ]
  },
  {
   "cell_type": "code",
   "execution_count": null,
   "metadata": {},
   "outputs": [],
   "source": [
    "# btsc10 = btsc['btsc_300804_11880_EPOCH-BATCH_ks.pkl'][0:10]\n",
    "# print(btsc['btsc_300804_11880_EPOCH-BATCH_ks.pkl'][0:10])\n",
    "# btsc10_scaled = btsc10.clone()\n",
    "# btsc10_scaled[:,-1] = torch.tensor([0, 1, 0, 1, 0, 1, 0, 1, 0, 1])\n",
    "# print(btsc10_scaled)\n",
    "# # print(btsc10)\n",
    "# btsc10_scaled[:, :-1] = scale_data(btsc10_scaled[:, :-1])\n",
    "# print(btsc10_scaled)\n"
   ]
  },
  {
   "cell_type": "code",
   "execution_count": null,
   "metadata": {},
   "outputs": [],
   "source": [
    "from data.preprocessing import mask_features\n"
   ]
  },
  {
   "cell_type": "code",
   "execution_count": null,
   "metadata": {},
   "outputs": [],
   "source": [
    "btsc_test = btsc['btsc_300804_11880_EPOCH-BATCH_ks.pkl'][0:10]\n",
    "btsc_test_scaled = scale_data(btsc_test)\n",
    "# print(btsc_test_scaled)\n",
    "# print(mask_features(btsc_test_scaled, 0, 2))\n"
   ]
  }
 ],
 "metadata": {
  "kernelspec": {
   "display_name": "Python 3",
   "language": "python",
   "name": "python3"
  },
  "language_info": {
   "codemirror_mode": {
    "name": "ipython",
    "version": 3
   },
   "file_extension": ".py",
   "mimetype": "text/x-python",
   "name": "python",
   "nbconvert_exporter": "python",
   "pygments_lexer": "ipython3",
   "version": "3.11.4"
  }
 },
 "nbformat": 4,
 "nbformat_minor": 2
}
